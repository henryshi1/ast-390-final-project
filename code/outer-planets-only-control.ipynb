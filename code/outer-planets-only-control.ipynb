{
 "cells": [
  {
   "cell_type": "markdown",
   "metadata": {},
   "source": [
    "# Planet X and its effect on the Solar System\n",
    "The existence of Planet Nine has been hypothesized since 2014 based on the clustering of orbits of Kuiper Belt objects with orbital semi-major axes greater than 150AU. Could such a hypothetical planet cause the observed clustering of KBO perihelia near the ecliptic? This simulation investigates such a hypothesis using different models for Planet Nine, and will also attempt to investigate the effects that a Planet Nine would have on other Solar System objects."
   ]
  },
  {
   "cell_type": "markdown",
   "metadata": {},
   "source": [
    "We first import all necessary modules."
   ]
  },
  {
   "cell_type": "code",
   "execution_count": 1,
   "metadata": {},
   "outputs": [],
   "source": [
    "import rebound\n",
    "import numpy as np\n",
    "import matplotlib.pyplot as plt"
   ]
  },
  {
   "cell_type": "markdown",
   "metadata": {},
   "source": [
    "We begin by generating the outer Solar System."
   ]
  },
  {
   "cell_type": "code",
   "execution_count": 2,
   "metadata": {},
   "outputs": [],
   "source": [
    "sim = rebound.Simulation()\n",
    "sim.add(m=1.)     # host star, 1 solar mass\n",
    "sim.add(m=9.550e-4, e=0.049, a=5.200, inc=0.023)    # Jupiter\n",
    "sim.add(m=2.858e-4, e=0.057, a=9.580, inc=0.044)    # Saturn\n",
    "sim.add(m=4.370e-5, e=0.046, a=19.20, inc=0.014)    # Uranus\n",
    "sim.add(m=5.150e-5, e=0.011, a=30.10, inc=0.031)    # Neptune"
   ]
  },
  {
   "cell_type": "markdown",
   "metadata": {},
   "source": [
    "In this setup, we avoid adding Kuiper Belt or Scattered Disc objects."
   ]
  },
  {
   "cell_type": "code",
   "execution_count": 3,
   "metadata": {},
   "outputs": [],
   "source": [
    "#sim.add(m=6.580e-9, e=0.244, a=39.20, inc=0.300)    # Pluto\n",
    "#sim.add(m=8.0e-9, e=0.442, a=67.67, inc=0.771)      # Eris\n",
    "#sim.add(m=2.0e-9, e=0.855, a=525.606, inc=0.208)    # Sedna\n",
    "\n",
    "# Create 100 Kuiper belt objects, with 30AU < a < 50AU\n",
    "#n_kbo = 100\n",
    "#a = np.random.random(n_kbo)*10 + 40   # semimajor axis deviates from 450AU by up to 200AU\n",
    "#e = np.random.random(n_kbo)*0.05 + 0.1  # random eccentricities 0.05 < e < 0.15\n",
    "#inc = np.random.random(n_kbo)*np.pi/18. # orbital inclinations centered on +/-5 degrees=pi/36 radians, so let the range be 10 degrees\n",
    "#m = 1.97e-2*3.003e-6/n_kbo             # total mass of Kuiper belt is 1.97e-2 earth masses\n",
    "#r = 0\n",
    "\n",
    "# generate the objects\n",
    "#for i in xrange(0,n_kbo):\n",
    "#    rand = np.random.random()*2*np.pi\n",
    "#    sim.add(m=m, r=r, a=a[i], e=e[i], inc=inc[i], Omega=0, omega=rand, f=rand)\n",
    "    \n",
    "# Create random scattered disc objects, with 150AU < a < 550AU semimajor axis\n",
    "#n_sdo = 100\n",
    "#a = np.random.random(n_sdo)*200 + 350  # semimajor axis deviates from 450AU by up to 200AU\n",
    "#e = np.random.random(n_sdo)*0.8        # random eccentricities 0 < e < 1\n",
    "#inc = np.random.random(n_sdo)*2.*np.pi/9. # max inclination of 40 degrees = 2pi/9\n",
    "#m = 0    # mass is negligible\n",
    "#r = 0\n",
    "\n",
    "# generate the objects\n",
    "#for i in xrange(0,n_sdo):\n",
    "#    rand = np.random.random()*2*np.pi\n",
    "#    sim.add(m=m, r=r, a=a[i], e=e[i], inc=inc[i], Omega=0, omega=rand, f=rand)"
   ]
  },
  {
   "cell_type": "markdown",
   "metadata": {},
   "source": [
    "In this control simulation, we avoid adding in Planet 9."
   ]
  },
  {
   "cell_type": "code",
   "execution_count": 4,
   "metadata": {},
   "outputs": [],
   "source": [
    "#sim.add(m=3.003e-5, e=0.6, a=700.0, inc=np.pi/9., omega=5.*np.pi/6.)    # Planet 9"
   ]
  },
  {
   "cell_type": "markdown",
   "metadata": {},
   "source": [
    "We plot by calling the OrbitPlot function. We integrate our system ahead in time by 10 million years, or Nperiods = 1.0e7. Our timescale of interest is on the order of tens of millions of years."
   ]
  },
  {
   "cell_type": "code",
   "execution_count": null,
   "metadata": {},
   "outputs": [],
   "source": [
    "Nperiods = 1.0e7\n",
    "sim.integrate(Nperiods*2.*np.pi)\n",
    "\n",
    "fig, ax = rebound.OrbitPlot(sim, unitlabel=\"[AU]\", color=True, periastron=True)"
   ]
  },
  {
   "cell_type": "markdown",
   "metadata": {},
   "source": [
    "To get an idea of the three dimensional distribution of orbits, we use the `slices` option. This will plot the orbits three times, from different perspectives. You can size of the `z` direction by changing the value of `slices`. For example, `slices=0.5` corresponds to plots half the size of the main plot."
   ]
  },
  {
   "cell_type": "code",
   "execution_count": null,
   "metadata": {},
   "outputs": [],
   "source": [
    "#xlim=[-2.,2],ylim=[-2.,2]\n",
    "fig = rebound.OrbitPlot(sim,slices=0.8,unitlabel=\"[AU]\", color=True, periastron=True)"
   ]
  },
  {
   "cell_type": "markdown",
   "metadata": {},
   "source": [
    "The axes on the plots are automatically aligned with each other. The aspect of all plots is equal (a circular orbit will be a circle)."
   ]
  },
  {
   "cell_type": "markdown",
   "metadata": {},
   "source": [
    "We observe the distribution of the Kuiper Belt objects' orbital properties after a certain number of orbital periods. In particular, we look for clustering of the $\\omega$ values around a particular value, namely $180^\\circ$ with respect to the $\\omega$ value of Planet 9 in this simulation.\n",
    "\n",
    "We create arrays of semimajor axis $a$, eccentricity $e$, inclination $i$, and perihelion argument $\\omega$. We calculate the means and standard deviations of these quantities."
   ]
  },
  {
   "cell_type": "code",
   "execution_count": 35,
   "metadata": {},
   "outputs": [
    {
     "name": "stdout",
     "output_type": "stream",
     "text": [
      "a = 423.96247892026 +/- 113.55176163435159 AU\n",
      "e = 0.3829826677823099 +/- 0.24972221171456854\n",
      "i = 21.94329049058728 +/- 14.308028781917184 degrees\n",
      "ω = 8.55710972656033 +/- 104.21386856176649 degrees\n"
     ]
    }
   ],
   "source": [
    "# Calculate orbits\n",
    "orbits = sim.calculate_orbits()\n",
    "\n",
    "# Declare arrays\n",
    "a_vals = []\n",
    "e_vals = []\n",
    "i_vals = []\n",
    "omega_vals = []\n",
    "\n",
    "for orbit in orbits:\n",
    "    #print(orbit)\n",
    "    a_vals.append(orbit.a)\n",
    "    e_vals.append(orbit.e)\n",
    "    i_vals.append(orbit.e)\n",
    "    omega_vals.append(orbit.omega)\n",
    "    \n",
    "# Convert angles i and omega to degrees\n",
    "i_vals = 180./np.pi * np.array(i_vals)\n",
    "omega_vals = 180./np.pi * np.array(omega_vals)\n",
    "\n",
    "# Calculate the means and standard deviations\n",
    "a_mean = np.mean(a_vals)\n",
    "a_std = np.sqrt(np.var(a_vals))\n",
    "e_mean = np.mean(e_vals)\n",
    "e_std = np.sqrt(np.var(e_vals))\n",
    "i_mean = np.mean(i_vals)\n",
    "i_std = np.sqrt(np.var(i_vals))\n",
    "omega_mean = np.mean(omega_vals)\n",
    "omega_std = np.sqrt(np.var(omega_vals))\n",
    "\n",
    "# Print the means and standard deviations\n",
    "print(\"a = \" + str(a_mean) + \" +/- \" + str(a_std) + \" AU\")\n",
    "print(\"e = \" + str(e_mean) + \" +/- \" + str(e_std))\n",
    "print(\"i = \" + str(i_mean) + \" +/- \" + str(i_std) + \" degrees\")\n",
    "print(\"\\u03C9 = \" + str(omega_mean) + \" +/- \" + str(omega_std) + \" degrees\")\n"
   ]
  },
  {
   "cell_type": "markdown",
   "metadata": {},
   "source": [
    "Now, we generate plots of $e$ vs $a$ and a histogram of $i$ values and another histogram of $\\omega$ values."
   ]
  },
  {
   "cell_type": "code",
   "execution_count": 36,
   "metadata": {},
   "outputs": [
    {
     "data": {
      "image/png": "[encoded data removed]",
      "text/plain": [
       "<Figure size 432x288 with 2 Axes>"
      ]
     },
     "metadata": {
      "needs_background": "light"
     },
     "output_type": "display_data"
    }
   ],
   "source": [
    "plt.subplot(121)\n",
    "plt.title(\"Inclinations\")\n",
    "plt.hist(i_vals, bins=10)\n",
    "\n",
    "plt.subplot(122)\n",
    "plt.title(\"Perihelion Parameters\")\n",
    "plt.hist(omega_vals, bins=10)\n",
    "\n",
    "plt.show()"
   ]
  },
  {
   "cell_type": "code",
   "execution_count": 37,
   "metadata": {},
   "outputs": [
    {
     "data": {
      "image/png": "[encoded data removed]",
      "text/plain": [
       "<Figure size 432x288 with 1 Axes>"
      ]
     },
     "metadata": {
      "needs_background": "light"
     },
     "output_type": "display_data"
    }
   ],
   "source": [
    "plt.title(\"Eccentricity vs Semi-major Axis\")\n",
    "plt.xlabel(\"Semi-major axis a (AU)\")\n",
    "plt.ylabel(\"Eccentricity e\")\n",
    "plt.scatter(a_vals, e_vals)\n",
    "plt.show()"
   ]
  },
  {
   "cell_type": "code",
   "execution_count": null,
   "metadata": {},
   "outputs": [],
   "source": []
  }
 ],
 "metadata": {
  "kernelspec": {
   "display_name": "Python 3",
   "language": "python",
   "name": "python3"
  },
  "language_info": {
   "codemirror_mode": {
    "name": "ipython",
    "version": 3
   },
   "file_extension": ".py",
   "mimetype": "text/x-python",
   "name": "python",
   "nbconvert_exporter": "python",
   "pygments_lexer": "ipython3",
   "version": "3.6.9"
  },
  "widgets": {
   "state": {},
   "version": "1.0.0"
  }
 },
 "nbformat": 4,
 "nbformat_minor": 1
}
